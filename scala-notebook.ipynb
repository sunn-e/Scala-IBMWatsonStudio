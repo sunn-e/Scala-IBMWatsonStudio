{
    "nbformat_minor": 1, 
    "cells": [
        {
            "execution_count": 1, 
            "cell_type": "code", 
            "metadata": {}, 
            "outputs": [
                {
                    "output_type": "stream", 
                    "name": "stdout", 
                    "text": "Hi from scala in ibm watson studio\n"
                }
            ], 
            "source": "println(\"Hi from scala in ibm watson studio\")"
        }, 
        {
            "execution_count": 2, 
            "cell_type": "code", 
            "metadata": {}, 
            "outputs": [
                {
                    "output_type": "stream", 
                    "name": "stdout", 
                    "text": "Yoyoyoyoyo\n"
                }
            ], 
            "source": "println(\"Yoyoyoyoyo\")"
        }, 
        {
            "execution_count": 3, 
            "cell_type": "code", 
            "metadata": {}, 
            "outputs": [
                {
                    "output_type": "display_data", 
                    "data": {
                        "text/plain": "x = 2\ny = 3\n"
                    }, 
                    "metadata": {}
                }, 
                {
                    "execution_count": 3, 
                    "metadata": {}, 
                    "data": {
                        "text/plain": "5"
                    }, 
                    "output_type": "execute_result"
                }
            ], 
            "source": "val x = 2\nval y = 3\n\nx+y"
        }, 
        {
            "execution_count": 6, 
            "cell_type": "code", 
            "metadata": {}, 
            "outputs": [
                {
                    "output_type": "stream", 
                    "name": "stdout", 
                    "text": "+---+---+---+\n| _1| _2| _3|\n+---+---+---+\n|  1|  2|  3|\n|  4|  5|  6|\n|  6|  7|  8|\n+---+---+---+\n\n"
                }, 
                {
                    "output_type": "display_data", 
                    "data": {
                        "text/plain": "data = List((1,2,3), (4,5,6), (6,7,8))\nds = [_1: int, _2: int ... 1 more field]\n"
                    }, 
                    "metadata": {}
                }, 
                {
                    "execution_count": 6, 
                    "metadata": {}, 
                    "data": {
                        "text/plain": "[_1: int, _2: int ... 1 more field]"
                    }, 
                    "output_type": "execute_result"
                }
            ], 
            "source": "val data = Seq((1,2,3),(4,5,6),(6,7,8))\nval ds = spark.createDataset(data)\nds.show()"
        }, 
        {
            "execution_count": 13, 
            "cell_type": "code", 
            "metadata": {}, 
            "outputs": [
                {
                    "execution_count": 13, 
                    "metadata": {}, 
                    "data": {
                        "text/plain": "Range(1, 2, 3, 4, 5, 6, 7, 8, 9, 10, 11, 12, 13, 14, 15, 16, 17, 18, 19, 20, 21, 22, 23, 24, 25, 26, 27, 28, 29, 30, 31, 32, 33, 34, 35, 36, 37, 38, 39, 40, 41, 42, 43, 44, 45, 46, 47, 48, 49, 50, 51, 52, 53, 54, 55, 56, 57, 58, 59, 60, 61, 62, 63, 64, 65, 66, 67, 68, 69, 70, 71, 72, 73, 74, 75, 76, 77, 78, 79, 80, 81, 82, 83, 84, 85, 86, 87, 88, 89, 90, 91, 92, 93, 94, 95, 96, 97, 98, 99, 100)"
                    }, 
                    "output_type": "execute_result"
                }
            ], 
            "source": "1 to 100"
        }, 
        {
            "execution_count": 16, 
            "cell_type": "code", 
            "metadata": {}, 
            "outputs": [
                {
                    "execution_count": 16, 
                    "metadata": {}, 
                    "data": {
                        "text/plain": "Range(1, 2, 3, 4, 5, 6, 7, 8, 9, 10, 11, 12, 13, 14, 15, 16, 17, 18, 19, 20, 21, 22, 23, 24, 25, 26, 27, 28, 29, 30, 31, 32, 33, 34, 35, 36, 37, 38, 39, 40, 41, 42, 43, 44, 45, 46, 47, 48, 49, 50, 51, 52, 53, 54, 55, 56, 57, 58, 59, 60, 61, 62, 63, 64, 65, 66, 67, 68, 69, 70, 71, 72, 73, 74, 75, 76, 77, 78, 79, 80, 81, 82, 83, 84, 85, 86, 87, 88, 89, 90, 91, 92, 93, 94, 95, 96, 97, 98, 99, 100, 101, 102, 103, 104, 105, 106, 107, 108, 109, 110, 111, 112, 113, 114, 115, 116, 117, 118, 119, 120, 121, 122, 123, 124, 125, 126, 127, 128, 129, 130, 131, 132, 133, 134, 135, 136, 137, 138, 139, 140, 141, 142, 143, 144, 145, 146, 147, 148, 149, 150, 151, 152, 153, 154, 155, 156, 157, 158, 159, 160, 161, 162, 163, 164, 165, 166, 167, 168, 169, 17..."
                    }, 
                    "output_type": "execute_result"
                }
            ], 
            "source": "1 to 100000"
        }, 
        {
            "execution_count": 17, 
            "cell_type": "code", 
            "metadata": {}, 
            "outputs": [
                {
                    "execution_count": 17, 
                    "metadata": {}, 
                    "data": {
                        "text/plain": "Vector(2, 3, 4, 5, 6, 7, 8, 9, 10, 11)"
                    }, 
                    "output_type": "execute_result"
                }
            ], 
            "source": "(1 to 10).map(x=>x+1)"
        }, 
        {
            "execution_count": 30, 
            "cell_type": "code", 
            "metadata": {}, 
            "outputs": [
                {
                    "execution_count": 30, 
                    "metadata": {}, 
                    "data": {
                        "text/plain": "Vector(0, 0, 0, 0, 1, 1, 1, 1, 2, 2)"
                    }, 
                    "output_type": "execute_result"
                }
            ], 
            "source": "(0 to 9).map(x=>x/4)"
        }, 
        {
            "execution_count": 19, 
            "cell_type": "code", 
            "metadata": {}, 
            "outputs": [
                {
                    "execution_count": 19, 
                    "metadata": {}, 
                    "data": {
                        "text/plain": "Vector(2, 4, 6, 8, 10, 12, 14, 16, 18, 20)"
                    }, 
                    "output_type": "execute_result"
                }
            ], 
            "source": "(1 to 10).map(x=>x+x)"
        }, 
        {
            "execution_count": 25, 
            "cell_type": "code", 
            "metadata": {}, 
            "outputs": [
                {
                    "execution_count": 25, 
                    "metadata": {}, 
                    "data": {
                        "text/plain": "Vector(1, 2, 0, 1, 2, 0, 1, 2, 0, 1)"
                    }, 
                    "output_type": "execute_result"
                }
            ], 
            "source": "(1 to 10).map(x=>x%3)"
        }, 
        {
            "execution_count": 46, 
            "cell_type": "code", 
            "metadata": {}, 
            "outputs": [
                {
                    "output_type": "display_data", 
                    "data": {
                        "text/plain": "a = Range(1, 2, 3, 4, 5, 6, 7, 8, 9, 10)\n"
                    }, 
                    "metadata": {}
                }, 
                {
                    "execution_count": 46, 
                    "metadata": {}, 
                    "data": {
                        "text/plain": "Range(1, 2, 3, 4, 5, 6, 7, 8, 9, 10)"
                    }, 
                    "output_type": "execute_result"
                }
            ], 
            "source": "val a = 1 to 10 //immutable"
        }, 
        {
            "execution_count": 47, 
            "cell_type": "code", 
            "metadata": {}, 
            "outputs": [
                {
                    "execution_count": 47, 
                    "metadata": {}, 
                    "data": {
                        "text/plain": "Range(1, 2, 3, 4, 5, 6, 7, 8, 9, 10)"
                    }, 
                    "output_type": "execute_result"
                }
            ], 
            "source": "a"
        }, 
        {
            "execution_count": 56, 
            "cell_type": "code", 
            "metadata": {}, 
            "outputs": [
                {
                    "output_type": "display_data", 
                    "data": {
                        "text/plain": "b = Vector(2, 3, 4, 5, 6, 7, 8, 9, 10, 11)\n"
                    }, 
                    "metadata": {}
                }, 
                {
                    "execution_count": 56, 
                    "metadata": {}, 
                    "data": {
                        "text/plain": "Vector(2, 3, 4, 5, 6, 7, 8, 9, 10, 11)"
                    }, 
                    "output_type": "execute_result"
                }
            ], 
            "source": "var b = a.map(x => x+1) //mutable"
        }, 
        {
            "execution_count": 50, 
            "cell_type": "code", 
            "metadata": {}, 
            "outputs": [
                {
                    "execution_count": 50, 
                    "metadata": {}, 
                    "data": {
                        "text/plain": "Vector(2, 3, 4, 5, 6, 7, 8, 9, 10, 11)"
                    }, 
                    "output_type": "execute_result"
                }
            ], 
            "source": "b //immutable is better thn mutable so val is better than var"
        }, 
        {
            "execution_count": 54, 
            "cell_type": "code", 
            "metadata": {}, 
            "outputs": [
                {
                    "output_type": "display_data", 
                    "data": {
                        "text/plain": "c = Vector(35, 36, 37, 38, 39, 40, 41, 42, 43, 44)\n"
                    }, 
                    "metadata": {}
                }, 
                {
                    "execution_count": 54, 
                    "metadata": {}, 
                    "data": {
                        "text/plain": "Vector(35, 36, 37, 38, 39, 40, 41, 42, 43, 44)"
                    }, 
                    "output_type": "execute_result"
                }
            ], 
            "source": "var c = b.map(x=> x+33)"
        }, 
        {
            "execution_count": 55, 
            "cell_type": "code", 
            "metadata": {}, 
            "outputs": [
                {
                    "execution_count": 55, 
                    "metadata": {}, 
                    "data": {
                        "text/plain": "Vector(35, 36, 37, 38, 39, 40, 41, 42, 43, 44)"
                    }, 
                    "output_type": "execute_result"
                }
            ], 
            "source": "c"
        }, 
        {
            "execution_count": null, 
            "cell_type": "code", 
            "metadata": {}, 
            "outputs": [], 
            "source": ""
        }
    ], 
    "metadata": {
        "kernelspec": {
            "display_name": "Scala 2.11 with Spark", 
            "name": "scala", 
            "language": "scala"
        }, 
        "language_info": {
            "mimetype": "text/x-scala", 
            "version": "2.11.12", 
            "name": "scala", 
            "pygments_lexer": "scala", 
            "file_extension": ".scala", 
            "codemirror_mode": "text/x-scala"
        }
    }, 
    "nbformat": 4
}