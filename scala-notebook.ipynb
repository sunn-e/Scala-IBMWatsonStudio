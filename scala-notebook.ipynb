{
    "nbformat_minor": 1, 
    "cells": [
        {
            "execution_count": 1, 
            "cell_type": "code", 
            "metadata": {}, 
            "outputs": [
                {
                    "output_type": "stream", 
                    "name": "stdout", 
                    "text": "Hi from scala in ibm watson studio\n"
                }
            ], 
            "source": "println(\"Hi from scala in ibm watson studio\")"
        }, 
        {
            "execution_count": 2, 
            "cell_type": "code", 
            "metadata": {}, 
            "outputs": [
                {
                    "output_type": "stream", 
                    "name": "stdout", 
                    "text": "Yoyoyoyoyo\n"
                }
            ], 
            "source": "println(\"Yoyoyoyoyo\")"
        }, 
        {
            "execution_count": 3, 
            "cell_type": "code", 
            "metadata": {}, 
            "outputs": [
                {
                    "output_type": "display_data", 
                    "data": {
                        "text/plain": "x = 2\ny = 3\n"
                    }, 
                    "metadata": {}
                }, 
                {
                    "execution_count": 3, 
                    "metadata": {}, 
                    "data": {
                        "text/plain": "5"
                    }, 
                    "output_type": "execute_result"
                }
            ], 
            "source": "val x = 2\nval y = 3\n\nx+y"
        }, 
        {
            "execution_count": 4, 
            "cell_type": "code", 
            "metadata": {}, 
            "outputs": [
                {
                    "output_type": "stream", 
                    "name": "stdout", 
                    "text": "+---+---+---+\n| _1| _2| _3|\n+---+---+---+\n|  1|  2|  3|\n|  4|  5|  6|\n|  6|  7|  8|\n+---+---+---+\n\n"
                }, 
                {
                    "output_type": "display_data", 
                    "data": {
                        "text/plain": "data = List((1,2,3), (4,5,6), (6,7,8))\nds = [_1: int, _2: int ... 1 more field]\n"
                    }, 
                    "metadata": {}
                }, 
                {
                    "execution_count": 4, 
                    "metadata": {}, 
                    "data": {
                        "text/plain": "[_1: int, _2: int ... 1 more field]"
                    }, 
                    "output_type": "execute_result"
                }
            ], 
            "source": "val data = Seq((1,2,3),(4,5,6),(6,7,8))\nval ds = spark.createDataset(data)\nds.show()"
        }, 
        {
            "execution_count": 5, 
            "cell_type": "code", 
            "metadata": {}, 
            "outputs": [
                {
                    "execution_count": 5, 
                    "metadata": {}, 
                    "data": {
                        "text/plain": "Range(1, 2, 3, 4, 5, 6, 7, 8, 9, 10, 11, 12, 13, 14, 15, 16, 17, 18, 19, 20, 21, 22, 23, 24, 25, 26, 27, 28, 29, 30, 31, 32, 33, 34, 35, 36, 37, 38, 39, 40, 41, 42, 43, 44, 45, 46, 47, 48, 49, 50, 51, 52, 53, 54, 55, 56, 57, 58, 59, 60, 61, 62, 63, 64, 65, 66, 67, 68, 69, 70, 71, 72, 73, 74, 75, 76, 77, 78, 79, 80, 81, 82, 83, 84, 85, 86, 87, 88, 89, 90, 91, 92, 93, 94, 95, 96, 97, 98, 99, 100)"
                    }, 
                    "output_type": "execute_result"
                }
            ], 
            "source": "1 to 100"
        }, 
        {
            "execution_count": 6, 
            "cell_type": "code", 
            "metadata": {}, 
            "outputs": [
                {
                    "execution_count": 6, 
                    "metadata": {}, 
                    "data": {
                        "text/plain": "Range(1, 2, 3, 4, 5, 6, 7, 8, 9, 10, 11, 12, 13, 14, 15, 16, 17, 18, 19, 20, 21, 22, 23, 24, 25, 26, 27, 28, 29, 30, 31, 32, 33, 34, 35, 36, 37, 38, 39, 40, 41, 42, 43, 44, 45, 46, 47, 48, 49, 50, 51, 52, 53, 54, 55, 56, 57, 58, 59, 60, 61, 62, 63, 64, 65, 66, 67, 68, 69, 70, 71, 72, 73, 74, 75, 76, 77, 78, 79, 80, 81, 82, 83, 84, 85, 86, 87, 88, 89, 90, 91, 92, 93, 94, 95, 96, 97, 98, 99, 100, 101, 102, 103, 104, 105, 106, 107, 108, 109, 110, 111, 112, 113, 114, 115, 116, 117, 118, 119, 120, 121, 122, 123, 124, 125, 126, 127, 128, 129, 130, 131, 132, 133, 134, 135, 136, 137, 138, 139, 140, 141, 142, 143, 144, 145, 146, 147, 148, 149, 150, 151, 152, 153, 154, 155, 156, 157, 158, 159, 160, 161, 162, 163, 164, 165, 166, 167, 168, 169, 1..."
                    }, 
                    "output_type": "execute_result"
                }
            ], 
            "source": "1 to 100000"
        }, 
        {
            "execution_count": 7, 
            "cell_type": "code", 
            "metadata": {}, 
            "outputs": [
                {
                    "execution_count": 7, 
                    "metadata": {}, 
                    "data": {
                        "text/plain": "Vector(2, 3, 4, 5, 6, 7, 8, 9, 10, 11)"
                    }, 
                    "output_type": "execute_result"
                }
            ], 
            "source": "(1 to 10).map(x=>x+1)"
        }, 
        {
            "execution_count": 8, 
            "cell_type": "code", 
            "metadata": {}, 
            "outputs": [
                {
                    "execution_count": 8, 
                    "metadata": {}, 
                    "data": {
                        "text/plain": "Vector(0, 0, 0, 0, 1, 1, 1, 1, 2, 2)"
                    }, 
                    "output_type": "execute_result"
                }
            ], 
            "source": "(0 to 9).map(x=>x/4)"
        }, 
        {
            "execution_count": 9, 
            "cell_type": "code", 
            "metadata": {}, 
            "outputs": [
                {
                    "execution_count": 9, 
                    "metadata": {}, 
                    "data": {
                        "text/plain": "Vector(2, 4, 6, 8, 10, 12, 14, 16, 18, 20)"
                    }, 
                    "output_type": "execute_result"
                }
            ], 
            "source": "(1 to 10).map(x=>x+x)"
        }, 
        {
            "execution_count": 10, 
            "cell_type": "code", 
            "metadata": {}, 
            "outputs": [
                {
                    "execution_count": 10, 
                    "metadata": {}, 
                    "data": {
                        "text/plain": "Vector(1, 2, 0, 1, 2, 0, 1, 2, 0, 1)"
                    }, 
                    "output_type": "execute_result"
                }
            ], 
            "source": "(1 to 10).map(x=>x%3)"
        }, 
        {
            "execution_count": 11, 
            "cell_type": "code", 
            "metadata": {}, 
            "outputs": [
                {
                    "output_type": "display_data", 
                    "data": {
                        "text/plain": "a = Range(1, 2, 3, 4, 5, 6, 7, 8, 9, 10)\n"
                    }, 
                    "metadata": {}
                }, 
                {
                    "execution_count": 11, 
                    "metadata": {}, 
                    "data": {
                        "text/plain": "Range(1, 2, 3, 4, 5, 6, 7, 8, 9, 10)"
                    }, 
                    "output_type": "execute_result"
                }
            ], 
            "source": "val a = 1 to 10 //immutable"
        }, 
        {
            "execution_count": 12, 
            "cell_type": "code", 
            "metadata": {}, 
            "outputs": [
                {
                    "execution_count": 12, 
                    "metadata": {}, 
                    "data": {
                        "text/plain": "Range(1, 2, 3, 4, 5, 6, 7, 8, 9, 10)"
                    }, 
                    "output_type": "execute_result"
                }
            ], 
            "source": "a"
        }, 
        {
            "execution_count": 13, 
            "cell_type": "code", 
            "metadata": {}, 
            "outputs": [
                {
                    "output_type": "display_data", 
                    "data": {
                        "text/plain": "b = Vector(2, 3, 4, 5, 6, 7, 8, 9, 10, 11)\n"
                    }, 
                    "metadata": {}
                }, 
                {
                    "execution_count": 13, 
                    "metadata": {}, 
                    "data": {
                        "text/plain": "Vector(2, 3, 4, 5, 6, 7, 8, 9, 10, 11)"
                    }, 
                    "output_type": "execute_result"
                }
            ], 
            "source": "var b = a.map(x => x+1) //mutable"
        }, 
        {
            "execution_count": 14, 
            "cell_type": "code", 
            "metadata": {}, 
            "outputs": [
                {
                    "execution_count": 14, 
                    "metadata": {}, 
                    "data": {
                        "text/plain": "Vector(2, 3, 4, 5, 6, 7, 8, 9, 10, 11)"
                    }, 
                    "output_type": "execute_result"
                }
            ], 
            "source": "b //immutable is better thn mutable so val is better than var"
        }, 
        {
            "execution_count": 15, 
            "cell_type": "code", 
            "metadata": {}, 
            "outputs": [
                {
                    "output_type": "display_data", 
                    "data": {
                        "text/plain": "c = Vector(35, 36, 37, 38, 39, 40, 41, 42, 43, 44)\n"
                    }, 
                    "metadata": {}
                }, 
                {
                    "execution_count": 15, 
                    "metadata": {}, 
                    "data": {
                        "text/plain": "Vector(35, 36, 37, 38, 39, 40, 41, 42, 43, 44)"
                    }, 
                    "output_type": "execute_result"
                }
            ], 
            "source": "var c = b.map(x=> x+33)"
        }, 
        {
            "execution_count": 16, 
            "cell_type": "code", 
            "metadata": {}, 
            "outputs": [
                {
                    "execution_count": 16, 
                    "metadata": {}, 
                    "data": {
                        "text/plain": "Vector(35, 36, 37, 38, 39, 40, 41, 42, 43, 44)"
                    }, 
                    "output_type": "execute_result"
                }
            ], 
            "source": "c"
        }, 
        {
            "execution_count": 18, 
            "cell_type": "code", 
            "metadata": {}, 
            "outputs": [
                {
                    "execution_count": 18, 
                    "metadata": {}, 
                    "data": {
                        "text/plain": "Name: Syntax Error.\nMessage: \nStackTrace: "
                    }, 
                    "output_type": "execute_result"
                }
            ], 
            "source": "/*class is a description of a type*/\n//ehaviour\n//not concrete untill it is instantiated via call to it's constructor\n//with new keyword\n//multiple instanes exist"
        }, 
        {
            "execution_count": 19, 
            "cell_type": "code", 
            "metadata": {}, 
            "outputs": [
                {
                    "output_type": "display_data", 
                    "data": {
                        "text/plain": "defined class Hello\n"
                    }, 
                    "metadata": {}
                }
            ], 
            "source": "class Hello"
        }, 
        {
            "execution_count": 20, 
            "cell_type": "code", 
            "metadata": {}, 
            "outputs": [
                {
                    "execution_count": 20, 
                    "metadata": {}, 
                    "data": {
                        "text/plain": "Hello@6e4a958a"
                    }, 
                    "output_type": "execute_result"
                }
            ], 
            "source": "new Hello()"
        }, 
        {
            "execution_count": 21, 
            "cell_type": "code", 
            "metadata": {}, 
            "outputs": [
                {
                    "execution_count": 21, 
                    "metadata": {}, 
                    "data": {
                        "text/plain": "()"
                    }, 
                    "output_type": "execute_result"
                }
            ], 
            "source": "res0.toString() //didnot do a thing"
        }, 
        {
            "execution_count": 23, 
            "cell_type": "code", 
            "metadata": {}, 
            "outputs": [
                {
                    "output_type": "stream", 
                    "name": "stdout", 
                    "text": "Hi from hello class\n"
                }, 
                {
                    "output_type": "display_data", 
                    "data": {
                        "text/plain": "defined class Hello\n"
                    }, 
                    "metadata": {}
                }, 
                {
                    "execution_count": 23, 
                    "metadata": {}, 
                    "data": {
                        "text/plain": "Hello@6ada807b"
                    }, 
                    "output_type": "execute_result"
                }
            ], 
            "source": "//each class get's a primary contstructor\nclass Hello {\n    println(\"Hi from hello class\")\n}\nnew Hello()"
        }, 
        {
            "execution_count": 29, 
            "cell_type": "code", 
            "metadata": {}, 
            "outputs": [
                {
                    "output_type": "stream", 
                    "name": "stdout", 
                    "text": "Hello from a string\n"
                }, 
                {
                    "output_type": "display_data", 
                    "data": {
                        "text/plain": "defined class Hello\n"
                    }, 
                    "metadata": {}
                }, 
                {
                    "execution_count": 29, 
                    "metadata": {}, 
                    "data": {
                        "text/plain": "Hello@11797e49"
                    }, 
                    "output_type": "execute_result"
                }
            ], 
            "source": "///parameter must have a type\nclass Hello(message: String) {\n    println(message)\n}\nnew Hello(\"Hello from a string\")"
        }, 
        {
            "execution_count": 31, 
            "cell_type": "code", 
            "metadata": {}, 
            "outputs": [
                {
                    "execution_count": 31, 
                    "metadata": {}, 
                    "data": {
                        "text/plain": "Name: Unknown Error\nMessage: <console>:27: error: not enough arguments for constructor Hello: (message: String)Hello.\nUnspecified value parameter message.\n       new Hello //should give an error\n       ^\n\nStackTrace: "
                    }, 
                    "output_type": "execute_result"
                }
            ], 
            "source": "new Hello //should give an error"
        }, 
        {
            "execution_count": null, 
            "cell_type": "code", 
            "metadata": {}, 
            "outputs": [], 
            "source": "/* what the hell are fields*/\n//-value encapsulated within an instance of a class are fields\n//accessible to outside world\n\n//can be mut and immut\n//create fields in class\n//class param(are passed to class) vs fields(exist in class\n//params to fields\n\n//all class param are immutable by default\n//scala has typeinference\nclass Hello {\n    val message: String = \"bobobobo from Hello field,hueuhuehue ia am mutable\"//mutable field\n    var messa:String = \"obobo i am immutable field\" //immutable field\n}\n(new Hello).message\n(new Hello).messa"
        }, 
        {
            "execution_count": 1, 
            "cell_type": "code", 
            "metadata": {}, 
            "outputs": [
                {
                    "execution_count": 1, 
                    "metadata": {}, 
                    "data": {
                        "text/plain": "Name: Compile Error\nMessage: <console>:25: error: not found: type Hello\n       val hello = new Hello()\n                       ^\n\nStackTrace: "
                    }, 
                    "output_type": "execute_result"
                }
            ], 
            "source": "val hello = new Hello()\n\nprintln(hello.messa)\n\nprintln(hello.message)"
        }, 
        {
            "execution_count": 2, 
            "cell_type": "code", 
            "metadata": {}, 
            "outputs": [
                {
                    "execution_count": 2, 
                    "metadata": {}, 
                    "data": {
                        "text/plain": "Array(Sunny, Bunny)"
                    }, 
                    "output_type": "execute_result"
                }
            ], 
            "source": "//methods are evaluated *everytime* they are called\n//fields are only evaluated at the the time the class is constructed\n//and if immutable, only one time they are evaluated\n\n//methods are called on an instance of a class\n// scala uses \".\" or parantheses if method takes only one argument\n\"Sunny Bunny\".split(\" \")"
        }, 
        {
            "execution_count": 5, 
            "cell_type": "code", 
            "metadata": {}, 
            "outputs": [
                {
                    "execution_count": 5, 
                    "metadata": {}, 
                    "data": {
                        "text/plain": "Array(Sunny, Bunny)"
                    }, 
                    "output_type": "execute_result"
                }
            ], 
            "source": "\"Sunny Bunny\" split \" \" //but readability sucks"
        }, 
        {
            "execution_count": null, 
            "cell_type": "code", 
            "metadata": {}, 
            "outputs": [], 
            "source": ""
        }, 
        {
            "execution_count": 6, 
            "cell_type": "code", 
            "metadata": {}, 
            "outputs": [
                {
                    "output_type": "display_data", 
                    "data": {
                        "text/plain": "name: (first: String, last: String)String\n"
                    }, 
                    "metadata": {}
                }
            ], 
            "source": "//default arguments\ndef name(first:String = \"\", last: String = \"\"): String = first + \" \" + last"
        }, 
        {
            "execution_count": 7, 
            "cell_type": "code", 
            "metadata": {}, 
            "outputs": [
                {
                    "execution_count": 7, 
                    "metadata": {}, 
                    "data": {
                        "text/plain": "Sunny Bunny"
                    }, 
                    "output_type": "execute_result"
                }
            ], 
            "source": "name(\"Sunny\", \"Bunny\")"
        }, 
        {
            "execution_count": 9, 
            "cell_type": "code", 
            "metadata": {}, 
            "outputs": [
                {
                    "execution_count": 9, 
                    "metadata": {}, 
                    "data": {
                        "text/plain": "\"Sunny \""
                    }, 
                    "output_type": "execute_result"
                }
            ], 
            "source": "name(\"Sunny\") // so it's like java"
        }, 
        {
            "execution_count": 11, 
            "cell_type": "code", 
            "metadata": {}, 
            "outputs": [
                {
                    "output_type": "display_data", 
                    "data": {
                        "text/plain": "name: (first: String, last: String, middle: String)String\n"
                    }, 
                    "metadata": {}
                }
            ], 
            "source": "//best practice to write non defalut arg first\ndef name(first:String , last:String, middle:String = \"\"): String = \nfirst + \"  \" + middle + \" \"+last"
        }, 
        {
            "execution_count": 13, 
            "cell_type": "code", 
            "metadata": {}, 
            "outputs": [
                {
                    "execution_count": 13, 
                    "metadata": {}, 
                    "data": {
                        "text/plain": "yoyoyo   bobobob"
                    }, 
                    "output_type": "execute_result"
                }
            ], 
            "source": "name(\"yoyoyo\",\"bobobob\")"
        }, 
        {
            "execution_count": 17, 
            "cell_type": "code", 
            "metadata": {}, 
            "outputs": [
                {
                    "execution_count": 17, 
                    "metadata": {}, 
                    "data": {
                        "text/plain": "chichichi   bububub"
                    }, 
                    "output_type": "execute_result"
                }
            ], 
            "source": "//named arguments are like this\nname(last = \"bububub\",first = \"chichichi\") //seq doesn't matter"
        }, 
        {
            "execution_count": 1, 
            "cell_type": "code", 
            "metadata": {}, 
            "outputs": [
                {
                    "output_type": "display_data", 
                    "data": {
                        "text/plain": "defined object Hello\n"
                    }, 
                    "metadata": {}
                }, 
                {
                    "execution_count": 1, 
                    "metadata": {}, 
                    "data": {
                        "text/plain": "Hello"
                    }, 
                    "output_type": "execute_result"
                }
            ], 
            "source": "//whats an object\nobject Hello{\n    def message = \"Hello\"  //method in object\n    //\n}\nHello.message\n//useful in factories\n//utility methods\n//constant definitions\n"
        }, 
        {
            "execution_count": 9, 
            "cell_type": "code", 
            "metadata": {}, 
            "outputs": [
                {
                    "execution_count": 9, 
                    "metadata": {}, 
                    "data": {
                        "text/plain": "Name: Compile Error\nMessage: <console>:30: error: not found: type Time\n           new Time( //factory methods for time instances\n               ^\n\nStackTrace: "
                    }, 
                    "output_type": "execute_result"
                }
            ], 
            "source": "//a simple object\nobject Hello{\n    val onehourinminutes : Int= 60\n    \n    def fromminutes(minutes: Int) = \n    new Time( //factory methods for time instances\n        minutes/onehourinminutes,\n        minutes % onehourinminutes\n    )\n}\n\n\n"
        }, 
        {
            "execution_count": 10, 
            "cell_type": "code", 
            "metadata": {}, 
            "outputs": [
                {
                    "output_type": "display_data", 
                    "data": {
                        "text/plain": "defined object Hello\n"
                    }, 
                    "metadata": {}
                }
            ], 
            "source": "//starting a scala app\nobject Hello{\n    def main(args: Array[String]): Unit = \n        println(\"Hello\")\n}"
        }, 
        {
            "execution_count": 15, 
            "cell_type": "code", 
            "metadata": {}, 
            "outputs": [
                {
                    "execution_count": 15, 
                    "metadata": {}, 
                    "data": {
                        "text/plain": "Name: Syntax Error.\nMessage: \nStackTrace: "
                    }, 
                    "output_type": "execute_result"
                }
            ], 
            "source": "// scala <class name>"
        }, 
        {
            "execution_count": null, 
            "cell_type": "code", 
            "metadata": {}, 
            "outputs": [], 
            "source": ""
        }
    ], 
    "metadata": {
        "kernelspec": {
            "display_name": "Scala 2.11 with Spark", 
            "name": "scala", 
            "language": "scala"
        }, 
        "language_info": {
            "mimetype": "text/x-scala", 
            "version": "2.11.12", 
            "name": "scala", 
            "pygments_lexer": "scala", 
            "file_extension": ".scala", 
            "codemirror_mode": "text/x-scala"
        }
    }, 
    "nbformat": 4
}