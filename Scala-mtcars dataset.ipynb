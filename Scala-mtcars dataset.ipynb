{
    "nbformat_minor": 1, 
    "cells": [
        {
            "execution_count": 22, 
            "cell_type": "code", 
            "metadata": {}, 
            "outputs": [
                {
                    "output_type": "display_data", 
                    "data": {
                        "text/plain": "lastException: Throwable = null\nwarning: there was one feature warning; re-run with -feature for details\nfiledownloader: (url: String, filename: String)String\n"
                    }, 
                    "metadata": {}
                }
            ], 
            "source": "import sys.process._\nimport java.net.URL\nimport java.io.File\n\ndef filedownloader(url: String, filename : String) = {\n    new URL(url) #> new File(filename) !! //yes,there's freaking exclammation mark...huhu\n}\n\n/*\nimport scala.io.Source\nval page = Source.fromURL(\"https://www.google.com\")\nval page_to_string  = page.mkString\nprintln(page_to_string)\n*/"
        }, 
        {
            "execution_count": 23, 
            "cell_type": "code", 
            "metadata": {}, 
            "outputs": [
                {
                    "output_type": "stream", 
                    "name": "stdout", 
                    "text": "  % Total    % Received % Xferd  Average Speed   Time    Time     Time  Current\n                                 Dload  Upload   Total   Spent    Left  Speed\n100   219  100   219    0     0    890      0 --:--:-- --:--:-- --:--:--   886\n"
                }, 
                {
                    "output_type": "display_data", 
                    "data": {
                        "text/plain": "_s = \n"
                    }, 
                    "metadata": {}
                }, 
                {
                    "output_type": "display_data", 
                    "data": {
                        "text/plain": "warning: there was one feature warning; re-run with -feature for details\n\"<HTML><HEAD><meta http-equiv=\"content-type\" content=\"text/html;charset=utf-8\">\n<TITLE>301 Moved</TITLE></HEAD><BODY>\n<H1>301 Moved</H1>\nThe document has moved\n<A HREF=\"http://www.google.com/\">here</A>.\n</BODY></HTML>\n\"\n"
                    }, 
                    "metadata": {}
                }
            ], 
            "source": "import sys.process._\nval _s = \"curl http://google.com\" !!\n"
        }, 
        {
            "execution_count": 24, 
            "cell_type": "code", 
            "metadata": {}, 
            "outputs": [
                {
                    "execution_count": 24, 
                    "metadata": {}, 
                    "data": {
                        "text/plain": "Name: Unknown Error\nMessage: <console>:69: error: not found: value fileDownloader\n       fileDownloader(\"https://ibm.box.com/shared/static/f1dhhjnzjwxmy2c1ys2whvrgz05d1pui.csv\", \"/resources/mtcars.csv\")\n       ^\n\nStackTrace: "
                    }, 
                    "output_type": "execute_result"
                }
            ], 
            "source": "fileDownloader(\"https://ibm.box.com/shared/static/f1dhhjnzjwxmy2c1ys2whvrgz05d1pui.csv\", \"/resources/mtcars.csv\")"
        }, 
        {
            "execution_count": 25, 
            "cell_type": "code", 
            "metadata": {}, 
            "outputs": [
                {
                    "output_type": "display_data", 
                    "data": {
                        "text/plain": "sqlContext = org.apache.spark.sql.SQLContext@7c7cbf96\n"
                    }, 
                    "metadata": {}
                }, 
                {
                    "output_type": "display_data", 
                    "data": {
                        "text/plain": "warning: there was one deprecation warning; re-run with -deprecation for details\n"
                    }, 
                    "metadata": {}
                }, 
                {
                    "execution_count": 25, 
                    "metadata": {}, 
                    "data": {
                        "text/plain": "org.apache.spark.sql.SQLContext@7c7cbf96"
                    }, 
                    "output_type": "execute_result"
                }
            ], 
            "source": "import au.com.bytecode.opencsv.CSVParser\nval sqlContext = new org.apache.spark.sql.SQLContext(sc)\nimport sqlContext.implicits._"
        }, 
        {
            "execution_count": 26, 
            "cell_type": "code", 
            "metadata": {}, 
            "outputs": [
                {
                    "output_type": "display_data", 
                    "data": {
                        "text/plain": "defined class Cars\n"
                    }, 
                    "metadata": {}
                }
            ], 
            "source": "case class Cars(car: String, mpg: String, cyl: String, disp: String, hp: String, drat: String, wt: String, qsec: String, vs: String, am: String, gear: String, carb: String)"
        }, 
        {
            "execution_count": 38, 
            "cell_type": "code", 
            "metadata": {}, 
            "outputs": [
                {
                    "execution_count": 38, 
                    "metadata": {}, 
                    "data": {
                        "text/plain": "Name: Error parsing magics!\nMessage: Magic ls does not exist!\nStackTrace: "
                    }, 
                    "output_type": "execute_result"
                }
            ], 
            "source": "%%ls"
        }, 
        {
            "execution_count": 27, 
            "cell_type": "code", 
            "metadata": {}, 
            "outputs": [
                {
                    "execution_count": 27, 
                    "metadata": {}, 
                    "data": {
                        "text/plain": "Name: org.apache.hadoop.mapred.InvalidInputException\nMessage: Input path does not exist: file:/resources/mtcars.csv\nStackTrace:   at org.apache.hadoop.mapred.FileInputFormat.singleThreadedListStatus(FileInputFormat.java:287)\n  at org.apache.hadoop.mapred.FileInputFormat.listStatus(FileInputFormat.java:229)\n  at org.apache.hadoop.mapred.FileInputFormat.getSplits(FileInputFormat.java:315)\n  at org.apache.spark.rdd.HadoopRDD.getPartitions(HadoopRDD.scala:200)\n  at org.apache.spark.rdd.RDD$$anonfun$partitions$2.apply(RDD.scala:253)\n  at org.apache.spark.rdd.RDD$$anonfun$partitions$2.apply(RDD.scala:251)\n  at scala.Option.getOrElse(Option.scala:121)\n  at org.apache.spark.rdd.RDD.partitions(RDD.scala:251)\n  at org.apache.spark.rdd.MapPartitionsRDD.getPartitions(MapPartitionsRDD.scala:46)\n  at org.apache.spark.rdd.RDD$$anonfun$partitions$2.apply(RDD.scala:253)\n  at org.apache.spark.rdd.RDD$$anonfun$partitions$2.apply(RDD.scala:251)\n  at scala.Option.getOrElse(Option.scala:121)\n  at org.apache.spark.rdd.RDD.partitions(RDD.scala:251)\n  at org.apache.spark.rdd.MapPartitionsRDD.getPartitions(MapPartitionsRDD.scala:46)\n  at org.apache.spark.rdd.RDD$$anonfun$partitions$2.apply(RDD.scala:253)\n  at org.apache.spark.rdd.RDD$$anonfun$partitions$2.apply(RDD.scala:251)\n  at scala.Option.getOrElse(Option.scala:121)\n  at org.apache.spark.rdd.RDD.partitions(RDD.scala:251)\n  at org.apache.spark.rdd.RDD$$anonfun$take$1.apply(RDD.scala:1343)\n  at org.apache.spark.rdd.RDDOperationScope$.withScope(RDDOperationScope.scala:151)\n  at org.apache.spark.rdd.RDDOperationScope$.withScope(RDDOperationScope.scala:112)\n  at org.apache.spark.rdd.RDD.withScope(RDD.scala:363)\n  at org.apache.spark.rdd.RDD.take(RDD.scala:1337)\n  at org.apache.spark.rdd.RDD$$anonfun$first$1.apply(RDD.scala:1378)\n  at org.apache.spark.rdd.RDDOperationScope$.withScope(RDDOperationScope.scala:151)\n  at org.apache.spark.rdd.RDDOperationScope$.withScope(RDDOperationScope.scala:112)\n  at org.apache.spark.rdd.RDD.withScope(RDD.scala:363)\n  at org.apache.spark.rdd.RDD.first(RDD.scala:1377)"
                    }, 
                    "output_type": "execute_result"
                }
            ], 
            "source": "val csv = sc.textFile(\"/resources/mtcars.csv\")\nval headerAndRows = csv.map(line => line.split(\",\").map(_.trim))\nval header = headerAndRows.first\nval data = headerAndRows.filter(_(0) != header(0))\nval mtcars = data.map(p => Cars(p(0), p(1), p(2), p(3), p(4), p(5), p(6), p(7), p(8), p(9), p(10), p(11))).toDF()\nmtcars.printSchema"
        }, 
        {
            "execution_count": 28, 
            "cell_type": "code", 
            "metadata": {}, 
            "outputs": [
                {
                    "execution_count": 28, 
                    "metadata": {}, 
                    "data": {
                        "text/plain": "Name: Unknown Error\nMessage: lastException: Throwable = null\n<console>:75: error: not found: value mtcars\n       mtcars.show(5)\n       ^\n\nStackTrace: "
                    }, 
                    "output_type": "execute_result"
                }
            ], 
            "source": "mtcars.show(5)"
        }, 
        {
            "execution_count": 29, 
            "cell_type": "code", 
            "metadata": {}, 
            "outputs": [
                {
                    "execution_count": 29, 
                    "metadata": {}, 
                    "data": {
                        "text/plain": "Name: Unknown Error\nMessage: <console>:75: error: not found: value mtcars\n       mtcars.select(\"mpg\").show(5)\n       ^\n\nStackTrace: "
                    }, 
                    "output_type": "execute_result"
                }
            ], 
            "source": "mtcars.select(\"mpg\").show(5)"
        }, 
        {
            "execution_count": 30, 
            "cell_type": "code", 
            "metadata": {}, 
            "outputs": [
                {
                    "execution_count": 30, 
                    "metadata": {}, 
                    "data": {
                        "text/plain": "Name: Unknown Error\nMessage: <console>:75: error: not found: value mtcars\n       mtcars.filter(mtcars(\"mpg\") < 18).show(5)\n       ^\n<console>:75: error: not found: value mtcars\n       mtcars.filter(mtcars(\"mpg\") < 18).show(5)\n                     ^\n\nStackTrace: "
                    }, 
                    "output_type": "execute_result"
                }
            ], 
            "source": "mtcars.filter(mtcars(\"mpg\") < 18).show(5)"
        }, 
        {
            "execution_count": 31, 
            "cell_type": "code", 
            "metadata": {}, 
            "outputs": [
                {
                    "execution_count": 31, 
                    "metadata": {}, 
                    "data": {
                        "text/plain": "Name: Unknown Error\nMessage: <console>:75: error: not found: value mtcars\n       mtcars.withColumn(\"wtTon\", mtcars(\"wt\") * 0.45).show(6)\n       ^\n<console>:75: error: not found: value mtcars\n       mtcars.withColumn(\"wtTon\", mtcars(\"wt\") * 0.45).show(6)\n                                  ^\n\nStackTrace: "
                    }, 
                    "output_type": "execute_result"
                }
            ], 
            "source": "mtcars.withColumn(\"wtTon\", mtcars(\"wt\") * 0.45).show(6)"
        }, 
        {
            "execution_count": 32, 
            "cell_type": "code", 
            "metadata": {}, 
            "outputs": [
                {
                    "execution_count": 32, 
                    "metadata": {}, 
                    "data": {
                        "text/plain": "Name: Unknown Error\nMessage: <console>:77: error: not found: value mtcars\n       mtcars.groupBy(\"cyl\").agg(avg(\"wt\")).show(5)\n       ^\n\nStackTrace: "
                    }, 
                    "output_type": "execute_result"
                }
            ], 
            "source": "import org.apache.spark.sql.functions._\nmtcars.groupBy(\"cyl\").agg(avg(\"wt\")).show(5)"
        }, 
        {
            "execution_count": 33, 
            "cell_type": "code", 
            "metadata": {}, 
            "outputs": [
                {
                    "execution_count": 33, 
                    "metadata": {}, 
                    "data": {
                        "text/plain": "Name: Unknown Error\nMessage: <console>:77: error: not found: value mtcars\n       mtcars.groupBy(\"cyl\").agg(count(\"wt\")).sort($\"count(wt)\".desc).show(5)\n       ^\n<console>:77: error: not found: value count\n       mtcars.groupBy(\"cyl\").agg(count(\"wt\")).sort($\"count(wt)\".desc).show(5)\n                                 ^\n\nStackTrace: "
                    }, 
                    "output_type": "execute_result"
                }
            ], 
            "source": "// We can also sort the output from the aggregation to get the most common cars\n\nmtcars.groupBy(\"cyl\").agg(count(\"wt\")).sort($\"count(wt)\".desc).show(5)"
        }, 
        {
            "execution_count": 34, 
            "cell_type": "code", 
            "metadata": {}, 
            "outputs": [
                {
                    "execution_count": 34, 
                    "metadata": {}, 
                    "data": {
                        "text/plain": "Name: Unknown Error\nMessage: <console>:75: error: not found: value mtcars\n       mtcars.registerTempTable(\"cars\")\n       ^\n\nStackTrace: "
                    }, 
                    "output_type": "execute_result"
                }
            ], 
            "source": "//Register this DataFrame as a table.\nmtcars.registerTempTable(\"cars\")\n\n// SQL statements can be run by using the sql methods provided by sqlContext.\nval highgearcars = sqlContext.sql(\"SELECT gear FROM cars WHERE cyl >= 4 AND cyl <= 9\")\nhighgearcars.show(6)"
        }, 
        {
            "execution_count": null, 
            "cell_type": "code", 
            "metadata": {}, 
            "outputs": [], 
            "source": ""
        }, 
        {
            "execution_count": null, 
            "cell_type": "code", 
            "metadata": {}, 
            "outputs": [], 
            "source": ""
        }, 
        {
            "execution_count": null, 
            "cell_type": "code", 
            "metadata": {}, 
            "outputs": [], 
            "source": ""
        }, 
        {
            "execution_count": null, 
            "cell_type": "code", 
            "metadata": {}, 
            "outputs": [], 
            "source": ""
        }, 
        {
            "execution_count": null, 
            "cell_type": "code", 
            "metadata": {}, 
            "outputs": [], 
            "source": ""
        }, 
        {
            "execution_count": null, 
            "cell_type": "code", 
            "metadata": {}, 
            "outputs": [], 
            "source": ""
        }
    ], 
    "metadata": {
        "kernelspec": {
            "display_name": "Scala 2.11 with Spark", 
            "name": "scala", 
            "language": "scala"
        }, 
        "language_info": {
            "mimetype": "text/x-scala", 
            "version": "2.11.12", 
            "name": "scala", 
            "pygments_lexer": "scala", 
            "file_extension": ".scala", 
            "codemirror_mode": "text/x-scala"
        }
    }, 
    "nbformat": 4
}